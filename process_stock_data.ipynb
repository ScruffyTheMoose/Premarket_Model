{
 "cells": [
  {
   "cell_type": "code",
   "execution_count": 13,
   "metadata": {},
   "outputs": [],
   "source": [
    "import os\n",
    "import pandas as pd\n",
    "import yahoo_fin.stock_info as si"
   ]
  },
  {
   "cell_type": "code",
   "execution_count": 14,
   "metadata": {},
   "outputs": [],
   "source": [
    "# function to read price data and output new dataframe containing premarket change by date\n",
    "# data to generate/retain:\n",
    "    # overnight change percentage\n",
    "    # following day change percentage\n",
    "def feature_label(historical_prices: pd.DataFrame, filename: str) -> pd.DataFrame:\n",
    "    # length of dataframe and lists\n",
    "    length = historical_prices.shape[0] # num of rows\n",
    "\n",
    "    # list of all opening and closing historical prices\n",
    "    price_open = historical_prices['open'].tolist()\n",
    "    price_close = historical_prices['close'].tolist()\n",
    "\n",
    "    # dataframe that will be returned\n",
    "    result_data = pd.DataFrame(columns=('sector', 'premarket_change', 'day_change'))\n",
    "\n",
    "    company = filename[:-4]\n",
    "\n",
    "    # getting sector of company\n",
    "    sector = si.get_company_info(company).loc['sector']['Value']\n",
    "\n",
    "    # iterating through the lists, determining changes by %, and adding to result DF\n",
    "    # adds sector feature\n",
    "    for i in range(length - 1):\n",
    "        # change in price overnight / previous close price\n",
    "        premarket_change = ( (price_open[i + 1] - price_close[i]) / price_close[i] ) * 100\n",
    "\n",
    "        # change in price during day / opening price of day\n",
    "        day_change = ( (price_close[i + 1] - price_open[i + 1]) / price_open[i + 1] ) * 100\n",
    "\n",
    "        result_data.loc[i] = [sector, premarket_change, day_change]\n",
    "\n",
    "    return result_data"
   ]
  },
  {
   "cell_type": "code",
   "execution_count": null,
   "metadata": {},
   "outputs": [],
   "source": [
    "directory = 'raw_stock_data'\n",
    "n = 1\n",
    "for filename in os.listdir(directory):\n",
    "    \n",
    "    # easy tracking of progress because I'm lazy\n",
    "    print(f\"getting data for {filename}... {n}/500\")\n",
    "    n += 1\n",
    "    \n",
    "    data = pd.read_csv(f'{directory}/{filename}')\n",
    "    result = feature_label(data, filename)\n",
    "    result.to_csv(path_or_buf=f\"clean_stock_data/{filename}\")"
   ]
  }
 ],
 "metadata": {
  "interpreter": {
   "hash": "916dbcbb3f70747c44a77c7bcd40155683ae19c65e1c03b4aa3499c5328201f1"
  },
  "kernelspec": {
   "display_name": "Python 3.8.10 64-bit",
   "language": "python",
   "name": "python3"
  },
  "language_info": {
   "codemirror_mode": {
    "name": "ipython",
    "version": 3
   },
   "file_extension": ".py",
   "mimetype": "text/x-python",
   "name": "python",
   "nbconvert_exporter": "python",
   "pygments_lexer": "ipython3",
   "version": "3.8.10"
  },
  "orig_nbformat": 4
 },
 "nbformat": 4,
 "nbformat_minor": 2
}
