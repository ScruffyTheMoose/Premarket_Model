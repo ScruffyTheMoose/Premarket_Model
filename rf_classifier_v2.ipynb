{
 "cells": [
  {
   "cell_type": "code",
   "execution_count": 18,
   "metadata": {},
   "outputs": [],
   "source": [
    "from sklearn.ensemble import RandomForestClassifier\n",
    "from sklearn.model_selection import train_test_split\n",
    "from sklearn.metrics import accuracy_score\n",
    "from sklearn.preprocessing import OneHotEncoder\n",
    "\n",
    "import os\n",
    "import pandas as pd\n",
    "import numpy as np"
   ]
  },
  {
   "cell_type": "markdown",
   "metadata": {},
   "source": [
    "This iteration of the Random Forest Classifier will use the strategies discussed in the cited research paper. As an initial proof-of-concept for the data, we'll run a test on some AAPL indicators that I built elsewhere."
   ]
  },
  {
   "cell_type": "code",
   "execution_count": 19,
   "metadata": {},
   "outputs": [
    {
     "data": {
      "text/html": [
       "<div>\n",
       "<style scoped>\n",
       "    .dataframe tbody tr th:only-of-type {\n",
       "        vertical-align: middle;\n",
       "    }\n",
       "\n",
       "    .dataframe tbody tr th {\n",
       "        vertical-align: top;\n",
       "    }\n",
       "\n",
       "    .dataframe thead th {\n",
       "        text-align: right;\n",
       "    }\n",
       "</style>\n",
       "<table border=\"1\" class=\"dataframe\">\n",
       "  <thead>\n",
       "    <tr style=\"text-align: right;\">\n",
       "      <th></th>\n",
       "      <th>day</th>\n",
       "      <th>open</th>\n",
       "      <th>RSI</th>\n",
       "      <th>SO</th>\n",
       "      <th>MACD</th>\n",
       "      <th>PROC</th>\n",
       "      <th>OBV</th>\n",
       "      <th>label</th>\n",
       "    </tr>\n",
       "  </thead>\n",
       "  <tbody>\n",
       "    <tr>\n",
       "      <th>0</th>\n",
       "      <td>1</td>\n",
       "      <td>6.960000</td>\n",
       "      <td>39.463012</td>\n",
       "      <td>20.758699</td>\n",
       "      <td>-0.195793</td>\n",
       "      <td>-5.253961</td>\n",
       "      <td>1346777600</td>\n",
       "      <td>1</td>\n",
       "    </tr>\n",
       "    <tr>\n",
       "      <th>1</th>\n",
       "      <td>2</td>\n",
       "      <td>7.075357</td>\n",
       "      <td>47.695466</td>\n",
       "      <td>35.890841</td>\n",
       "      <td>-0.178103</td>\n",
       "      <td>-4.430446</td>\n",
       "      <td>1897123200</td>\n",
       "      <td>1</td>\n",
       "    </tr>\n",
       "    <tr>\n",
       "      <th>2</th>\n",
       "      <td>3</td>\n",
       "      <td>7.212143</td>\n",
       "      <td>50.437099</td>\n",
       "      <td>43.179896</td>\n",
       "      <td>-0.157343</td>\n",
       "      <td>0.546947</td>\n",
       "      <td>2552592000</td>\n",
       "      <td>1</td>\n",
       "    </tr>\n",
       "    <tr>\n",
       "      <th>3</th>\n",
       "      <td>4</td>\n",
       "      <td>7.292500</td>\n",
       "      <td>45.342180</td>\n",
       "      <td>64.682819</td>\n",
       "      <td>-0.130680</td>\n",
       "      <td>5.904408</td>\n",
       "      <td>3096329600</td>\n",
       "      <td>-1</td>\n",
       "    </tr>\n",
       "    <tr>\n",
       "      <th>4</th>\n",
       "      <td>5</td>\n",
       "      <td>7.201071</td>\n",
       "      <td>49.343096</td>\n",
       "      <td>80.655823</td>\n",
       "      <td>-0.110723</td>\n",
       "      <td>4.015826</td>\n",
       "      <td>2659932800</td>\n",
       "      <td>1</td>\n",
       "    </tr>\n",
       "    <tr>\n",
       "      <th>...</th>\n",
       "      <td>...</td>\n",
       "      <td>...</td>\n",
       "      <td>...</td>\n",
       "      <td>...</td>\n",
       "      <td>...</td>\n",
       "      <td>...</td>\n",
       "      <td>...</td>\n",
       "      <td>...</td>\n",
       "    </tr>\n",
       "    <tr>\n",
       "      <th>2967</th>\n",
       "      <td>2968</td>\n",
       "      <td>161.119995</td>\n",
       "      <td>68.207924</td>\n",
       "      <td>74.313983</td>\n",
       "      <td>2.757100</td>\n",
       "      <td>6.438396</td>\n",
       "      <td>16148157700</td>\n",
       "      <td>1</td>\n",
       "    </tr>\n",
       "    <tr>\n",
       "      <th>2968</th>\n",
       "      <td>2969</td>\n",
       "      <td>160.750000</td>\n",
       "      <td>66.835719</td>\n",
       "      <td>76.454484</td>\n",
       "      <td>3.132270</td>\n",
       "      <td>7.291944</td>\n",
       "      <td>16244199600</td>\n",
       "      <td>1</td>\n",
       "    </tr>\n",
       "    <tr>\n",
       "      <th>2969</th>\n",
       "      <td>2970</td>\n",
       "      <td>159.570007</td>\n",
       "      <td>64.513874</td>\n",
       "      <td>79.363369</td>\n",
       "      <td>3.432791</td>\n",
       "      <td>7.380151</td>\n",
       "      <td>16313663200</td>\n",
       "      <td>-1</td>\n",
       "    </tr>\n",
       "    <tr>\n",
       "      <th>2970</th>\n",
       "      <td>2971</td>\n",
       "      <td>159.369995</td>\n",
       "      <td>57.442199</td>\n",
       "      <td>51.207471</td>\n",
       "      <td>3.219890</td>\n",
       "      <td>6.010005</td>\n",
       "      <td>16236703400</td>\n",
       "      <td>1</td>\n",
       "    </tr>\n",
       "    <tr>\n",
       "      <th>2971</th>\n",
       "      <td>2972</td>\n",
       "      <td>159.990005</td>\n",
       "      <td>54.727100</td>\n",
       "      <td>70.032980</td>\n",
       "      <td>3.290013</td>\n",
       "      <td>8.365463</td>\n",
       "      <td>16325451600</td>\n",
       "      <td>1</td>\n",
       "    </tr>\n",
       "  </tbody>\n",
       "</table>\n",
       "<p>2972 rows × 8 columns</p>\n",
       "</div>"
      ],
      "text/plain": [
       "       day        open        RSI         SO      MACD      PROC          OBV  \\\n",
       "0        1    6.960000  39.463012  20.758699 -0.195793 -5.253961   1346777600   \n",
       "1        2    7.075357  47.695466  35.890841 -0.178103 -4.430446   1897123200   \n",
       "2        3    7.212143  50.437099  43.179896 -0.157343  0.546947   2552592000   \n",
       "3        4    7.292500  45.342180  64.682819 -0.130680  5.904408   3096329600   \n",
       "4        5    7.201071  49.343096  80.655823 -0.110723  4.015826   2659932800   \n",
       "...    ...         ...        ...        ...       ...       ...          ...   \n",
       "2967  2968  161.119995  68.207924  74.313983  2.757100  6.438396  16148157700   \n",
       "2968  2969  160.750000  66.835719  76.454484  3.132270  7.291944  16244199600   \n",
       "2969  2970  159.570007  64.513874  79.363369  3.432791  7.380151  16313663200   \n",
       "2970  2971  159.369995  57.442199  51.207471  3.219890  6.010005  16236703400   \n",
       "2971  2972  159.990005  54.727100  70.032980  3.290013  8.365463  16325451600   \n",
       "\n",
       "      label  \n",
       "0         1  \n",
       "1         1  \n",
       "2         1  \n",
       "3        -1  \n",
       "4         1  \n",
       "...     ...  \n",
       "2967      1  \n",
       "2968      1  \n",
       "2969     -1  \n",
       "2970      1  \n",
       "2971      1  \n",
       "\n",
       "[2972 rows x 8 columns]"
      ]
     },
     "execution_count": 19,
     "metadata": {},
     "output_type": "execute_result"
    }
   ],
   "source": [
    "data = pd.read_csv('stock_tech/AAPL_TA.csv')\n",
    "data"
   ]
  },
  {
   "cell_type": "markdown",
   "metadata": {},
   "source": [
    "We now have a dataframe representing ~3000 trading days. We have calculated the Relative Strength Index (RSI), Stochastic Oscillator (SO), Moving Average Convergence/Divergence (MACD), Price Rate of Change (PROC) and On Balance Volume (OBV). \n",
    "\n",
    "All of these indicators have been calculated using exclusively data prior to the date of record. This means that RSI on the n-day will have been calculated using only data from the (n-1)-day. The prevents any look-ahead bias and allows the model to see only the data that will be available in real-world trading.\n",
    "\n",
    "Lastly, we have a label column which is based simply on whether or not the price closed higher/lower/equal on the day being evaluated. All together, this means the model will use yesterday's data to determine today's classification."
   ]
  },
  {
   "cell_type": "code",
   "execution_count": 23,
   "metadata": {},
   "outputs": [],
   "source": [
    "# list of features to be pulled from data\n",
    "features = ['open', 'RSI', 'SO', 'MACD', 'PROC', 'OBV']\n",
    "\n",
    "# assigning features and label to X and y\n",
    "X = data[features]\n",
    "y = data['label']\n",
    "\n",
    "# splitting training data and validation data\n",
    "train_X, val_X, train_y, val_y = train_test_split(X, y, random_state=1)"
   ]
  },
  {
   "cell_type": "code",
   "execution_count": 24,
   "metadata": {},
   "outputs": [
    {
     "data": {
      "text/plain": [
       "RandomForestClassifier(random_state=1)"
      ]
     },
     "execution_count": 24,
     "metadata": {},
     "output_type": "execute_result"
    }
   ],
   "source": [
    "model = RandomForestClassifier(random_state=1)\n",
    "\n",
    "model.fit(train_X, train_y)"
   ]
  },
  {
   "cell_type": "code",
   "execution_count": 25,
   "metadata": {},
   "outputs": [
    {
     "data": {
      "text/plain": [
       "0.5087483176312247"
      ]
     },
     "execution_count": 25,
     "metadata": {},
     "output_type": "execute_result"
    }
   ],
   "source": [
    "predictions = model.predict(val_X)\n",
    "\n",
    "accuracy_score(val_y, predictions)"
   ]
  },
  {
   "cell_type": "markdown",
   "metadata": {},
   "source": [
    "Conclusion: Technical indicators, as expected, are insufficient for predicting market conditions on their own."
   ]
  }
 ],
 "metadata": {
  "interpreter": {
   "hash": "916dbcbb3f70747c44a77c7bcd40155683ae19c65e1c03b4aa3499c5328201f1"
  },
  "kernelspec": {
   "display_name": "Python 3.8.10 64-bit",
   "language": "python",
   "name": "python3"
  },
  "language_info": {
   "codemirror_mode": {
    "name": "ipython",
    "version": 3
   },
   "file_extension": ".py",
   "mimetype": "text/x-python",
   "name": "python",
   "nbconvert_exporter": "python",
   "pygments_lexer": "ipython3",
   "version": "3.8.10"
  },
  "orig_nbformat": 4
 },
 "nbformat": 4,
 "nbformat_minor": 2
}
