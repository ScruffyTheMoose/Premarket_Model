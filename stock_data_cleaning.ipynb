{
 "cells": [
  {
   "cell_type": "code",
   "execution_count": 8,
   "metadata": {},
   "outputs": [],
   "source": [
    "import os\n",
    "import pandas as pd\n",
    "import pprint"
   ]
  },
  {
   "cell_type": "code",
   "execution_count": 9,
   "metadata": {},
   "outputs": [
    {
     "name": "stdout",
     "output_type": "stream",
     "text": [
      "      Unnamed: 0        open        high         low       close    adjclose  \\\n",
      "0     2010-01-04    7.622500    7.660714    7.585000    7.643214    6.553025   \n",
      "1     2010-01-05    7.664286    7.699643    7.616071    7.656429    6.564354   \n",
      "2     2010-01-06    7.656429    7.686786    7.526786    7.534643    6.459940   \n",
      "3     2010-01-07    7.562500    7.571429    7.466071    7.520714    6.447999   \n",
      "4     2010-01-08    7.510714    7.571429    7.466429    7.570714    6.490865   \n",
      "...          ...         ...         ...         ...         ...         ...   \n",
      "2994  2021-11-23  161.119995  161.800003  159.059998  161.410004  161.410004   \n",
      "2995  2021-11-24  160.750000  162.139999  159.639999  161.940002  161.940002   \n",
      "2996  2021-11-26  159.570007  160.449997  156.360001  156.809998  156.809998   \n",
      "2997  2021-11-29  159.369995  161.190002  158.789993  160.240005  160.240005   \n",
      "2998  2021-11-30  159.990005  165.520004  159.919998  165.300003  165.300003   \n",
      "\n",
      "         volume ticker  \n",
      "0     493729600   AAPL  \n",
      "1     601904800   AAPL  \n",
      "2     552160000   AAPL  \n",
      "3     477131200   AAPL  \n",
      "4     447610800   AAPL  \n",
      "...         ...    ...  \n",
      "2994   96041900   AAPL  \n",
      "2995   69463600   AAPL  \n",
      "2996   76959800   AAPL  \n",
      "2997   88748200   AAPL  \n",
      "2998  174048100   AAPL  \n",
      "\n",
      "[2999 rows x 8 columns]\n"
     ]
    }
   ],
   "source": [
    "df = pd.read_csv('raw_stock_data/AAPL.csv')\n",
    "print(df)"
   ]
  },
  {
   "cell_type": "code",
   "execution_count": 12,
   "metadata": {},
   "outputs": [],
   "source": [
    "# function to read price data and output new dataframe containing premarket change by date\n",
    "# data to generate/retain:\n",
    "    # overnight change percentage\n",
    "    # following day change percentage\n",
    "def find_change(historical_prices: pd.DataFrame) -> pd.DataFrame:\n",
    "    # length of dataframe and lists\n",
    "    length = historical_prices.shape[0] # num of rows\n",
    "\n",
    "    # list of all opening and closing historical prices\n",
    "    price_open = historical_prices['open'].tolist()\n",
    "    price_close = historical_prices['close'].tolist()\n",
    "\n",
    "    # dataframe that will be returned\n",
    "    result_data = pd.DataFrame(columns=('premarket_change', 'day_change'))\n",
    "\n",
    "    # iterating through the lists, determining changes by %, and adding to result DF\n",
    "    for i in range(length - 1):\n",
    "        # change in price overnight / previous close price\n",
    "        premarket_change = ( (price_open[i + 1] - price_close[i]) / price_close[i] ) * 100\n",
    "\n",
    "        # change in price during day / opening price of day\n",
    "        day_change = ( (price_close[i + 1] - price_open[i + 1]) / price_open[i + 1] ) * 100\n",
    "\n",
    "        result_data.loc[i] = [premarket_change, day_change]\n",
    "\n",
    "    return result_data"
   ]
  },
  {
   "cell_type": "code",
   "execution_count": null,
   "metadata": {},
   "outputs": [],
   "source": [
    "directory = 'raw_stock_data'\n",
    "\n",
    "for file in os.listdir(directory):"
   ]
  }
 ],
 "metadata": {
  "language_info": {
   "name": "python"
  },
  "orig_nbformat": 4
 },
 "nbformat": 4,
 "nbformat_minor": 2
}
