{
 "cells": [
  {
   "cell_type": "code",
   "execution_count": 1,
   "metadata": {},
   "outputs": [],
   "source": [
    "from sklearn.ensemble import RandomForestClassifier\n",
    "from sklearn.model_selection import train_test_split\n",
    "from sklearn.metrics import accuracy_score\n",
    "\n",
    "import os\n",
    "import pandas as pd\n",
    "import numpy as np"
   ]
  },
  {
   "cell_type": "markdown",
   "metadata": {},
   "source": [
    "Building a function to assign a label to each row. The labels ('decrease', 'increase', 'minimal') are representative of whether the day's change following some premarket price change was positive, negative, or near-zero.\n",
    "\n",
    "This function is called later in a lambda function to append a new column to the data."
   ]
  },
  {
   "cell_type": "code",
   "execution_count": 2,
   "metadata": {},
   "outputs": [],
   "source": [
    "# function to determine label to apply to data pair\n",
    "def get_class(row) -> str:\n",
    "    if row['day_change'] < 0:\n",
    "        return 'decrease'\n",
    "    elif row['day_change'] > 0:\n",
    "        return 'increase'\n",
    "    else:\n",
    "        return 'minimal'"
   ]
  },
  {
   "cell_type": "markdown",
   "metadata": {},
   "source": [
    "Iterating through all data with no consideration to underlying markets/sectors to concatenate all the data into a single dataframe."
   ]
  },
  {
   "cell_type": "code",
   "execution_count": null,
   "metadata": {},
   "outputs": [],
   "source": [
    "# Collect all cleaned data and concat into a single DataFrame for fitting the model\n",
    "\n",
    "directory = 'clean_stock_data'\n",
    "\n",
    "# full_df = pd.DataFrame(columns=('premarket_change', 'day_change'))\n",
    "df_tracker = []\n",
    "\n",
    "n = 1\n",
    "for filename in os.listdir(directory):\n",
    "    \n",
    "    # easy tracking of progress because I'm lazy part 2 hehe\n",
    "    print(f\"parsing data from {filename} to features and labels... {n}/500\")\n",
    "    n += 1\n",
    "\n",
    "    try:\n",
    "        data = pd.read_csv(f'{directory}/{filename}')\n",
    "        df_tracker.append(data)\n",
    "    except:\n",
    "        print(f\"Failed to copy data from {filename} to full_df...\")\n",
    "\n",
    "full_df = pd.concat(df_tracker, ignore_index=True)"
   ]
  },
  {
   "cell_type": "markdown",
   "metadata": {},
   "source": [
    "Applying the get_class() function to assign labels to each row."
   ]
  },
  {
   "cell_type": "code",
   "execution_count": 4,
   "metadata": {},
   "outputs": [],
   "source": [
    "# adding label to each data pair\n",
    "full_df['label'] = full_df.apply(lambda row: get_class(row), axis=1)"
   ]
  },
  {
   "cell_type": "markdown",
   "metadata": {},
   "source": [
    "Parsing features and labels and calling train_test_split() to separate training data and validation data."
   ]
  },
  {
   "cell_type": "code",
   "execution_count": 5,
   "metadata": {},
   "outputs": [],
   "source": [
    "# features and labels\n",
    "feature = 'premarket_change'\n",
    "label = 'label'\n",
    "\n",
    "# Parsing features and labels to separate lists\n",
    "X = np.array(full_df[feature]).reshape(-1, 1)\n",
    "y = full_df[label]\n",
    "\n",
    "# train_test_split to separate training data and OOS data for validation\n",
    "train_X, val_X, train_y, val_y = train_test_split(X, y, random_state=1)"
   ]
  },
  {
   "cell_type": "markdown",
   "metadata": {},
   "source": [
    "Fitting the model to the training data with default parameters."
   ]
  },
  {
   "cell_type": "code",
   "execution_count": null,
   "metadata": {},
   "outputs": [],
   "source": [
    "# initiating model object\n",
    "model = RandomForestClassifier(random_state=1)\n",
    "\n",
    "# fitting model to training data\n",
    "model.fit(train_X, train_y)"
   ]
  },
  {
   "cell_type": "markdown",
   "metadata": {},
   "source": [
    "Assessing the accuracy of the models predictions."
   ]
  },
  {
   "cell_type": "code",
   "execution_count": 7,
   "metadata": {},
   "outputs": [
    {
     "name": "stdout",
     "output_type": "stream",
     "text": [
      "0.4942883537118026\n"
     ]
    }
   ],
   "source": [
    "predictions = model.predict(val_X)\n",
    "\n",
    "print(accuracy_score(val_y, predictions))"
   ]
  },
  {
   "cell_type": "markdown",
   "metadata": {},
   "source": [
    "Resulting accuracy of 49.42883537118026%"
   ]
  }
 ],
 "metadata": {
  "interpreter": {
   "hash": "916dbcbb3f70747c44a77c7bcd40155683ae19c65e1c03b4aa3499c5328201f1"
  },
  "kernelspec": {
   "display_name": "Python 3.8.10 64-bit",
   "language": "python",
   "name": "python3"
  },
  "language_info": {
   "codemirror_mode": {
    "name": "ipython",
    "version": 3
   },
   "file_extension": ".py",
   "mimetype": "text/x-python",
   "name": "python",
   "nbconvert_exporter": "python",
   "pygments_lexer": "ipython3",
   "version": "3.8.10"
  },
  "orig_nbformat": 4
 },
 "nbformat": 4,
 "nbformat_minor": 2
}
